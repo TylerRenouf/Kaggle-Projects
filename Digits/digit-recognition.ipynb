{
 "cells": [
  {
   "cell_type": "code",
   "execution_count": 60,
   "metadata": {
    "_cell_guid": "b1076dfc-b9ad-4769-8c92-a6c4dae69d19",
    "_uuid": "8f2839f25d086af736a60e9eeb907d3b93b6e0e5",
    "execution": {
     "iopub.execute_input": "2024-07-29T06:13:47.630827Z",
     "iopub.status.busy": "2024-07-29T06:13:47.629920Z",
     "iopub.status.idle": "2024-07-29T06:13:47.638797Z",
     "shell.execute_reply": "2024-07-29T06:13:47.637769Z",
     "shell.execute_reply.started": "2024-07-29T06:13:47.630792Z"
    },
    "trusted": true
   },
   "outputs": [
    {
     "name": "stdout",
     "output_type": "stream",
     "text": [
      "Available Device: cuda:0\n"
     ]
    }
   ],
   "source": [
    "import numpy as np\n",
    "import pandas as pd \n",
    "\n",
    "import torch\n",
    "import torch.nn as nn\n",
    "import torch.optim as optim\n",
    "\n",
    "from torch.utils.data import Dataset, DataLoader\n",
    "from torchvision import transforms, datasets\n",
    "\n",
    "from PIL import Image\n",
    "\n",
    "import os\n",
    "import matplotlib.pyplot as plt\n",
    "\n",
    "rs = 242130893\n",
    "batch_size = 1024\n",
    "\n",
    "\n",
    "torch.manual_seed(rs)\n",
    "np.random.seed(rs)\n",
    "\n",
    "\n",
    "base_dir = '/kaggle/input/'\n",
    "\n",
    "\n",
    "device = \"cuda:0\" if torch.cuda.is_available() else \"cpu\"\n",
    "torch.device(device)\n",
    "\n",
    "print(f\"Available Device: {device}\")"
   ]
  },
  {
   "cell_type": "code",
   "execution_count": 61,
   "metadata": {
    "execution": {
     "iopub.execute_input": "2024-07-29T06:13:47.804340Z",
     "iopub.status.busy": "2024-07-29T06:13:47.803661Z",
     "iopub.status.idle": "2024-07-29T06:14:07.645030Z",
     "shell.execute_reply": "2024-07-29T06:14:07.643989Z",
     "shell.execute_reply.started": "2024-07-29T06:13:47.804310Z"
    },
    "trusted": true
   },
   "outputs": [
    {
     "name": "stdout",
     "output_type": "stream",
     "text": [
      "Using downloaded and verified file: base_dir/train_32x32.mat\n",
      "Using downloaded and verified file: base_dir/extra_32x32.mat\n",
      "Using downloaded and verified file: base_dir/test_32x32.mat\n"
     ]
    }
   ],
   "source": [
    "from torch.utils.data import ConcatDataset\n",
    "\n",
    "tensor_transform = transforms.Compose([\n",
    "            transforms.Resize((32,40),antialias=True),\n",
    "            transforms.ToTensor(),\n",
    "            transforms.Grayscale(num_output_channels=1),\n",
    "        ])\n",
    "\n",
    "train_transforms = transforms.Compose([\n",
    "        transforms.Resize((32,40),antialias=True),\n",
    "        transforms.ToTensor(),\n",
    "        transforms.RandomApply([\n",
    "            transforms.RandomAffine(degrees=(-30,30),translate=(0.25, 0.25)),\n",
    "            transforms.RandomErasing(p=0.5,scale=(0.02, 0.6))\n",
    "            ]\n",
    "        , p=0.8),\n",
    "        transforms.Grayscale(num_output_channels=1),\n",
    "    ])\n",
    "\n",
    "train_set = datasets.SVHN(root='base_dir', split='train', transform=train_transforms, download=True)\n",
    "extra_set = datasets.SVHN(root='base_dir', split='extra', transform=train_transforms, download=True)\n",
    "mnist_train = datasets.MNIST(root='base_dir', train=True, transform=train_transforms, download=True)\n",
    "\n",
    "\n",
    "test_set = datasets.SVHN(root='base_dir', split='test', transform=tensor_transform, download=True)\n",
    "mnist_test = datasets.MNIST(root='base_dir', train=False, transform=tensor_transform, download=True)\n",
    "\n",
    "combined_train_set = ConcatDataset([train_set, extra_set,mnist_train])\n",
    "combined_test_set = ConcatDataset([test_set, mnist_test])\n",
    "\n",
    "\n",
    "train_loader = DataLoader(combined_train_set, batch_size=batch_size, shuffle=True, num_workers=4, pin_memory=True)\n",
    "\n",
    "test_loader = DataLoader(combined_test_set, batch_size=batch_size, shuffle=True, num_workers=4, pin_memory=True)\n",
    "\n"
   ]
  },
  {
   "cell_type": "code",
   "execution_count": 62,
   "metadata": {
    "execution": {
     "iopub.execute_input": "2024-07-29T06:14:07.647772Z",
     "iopub.status.busy": "2024-07-29T06:14:07.646881Z",
     "iopub.status.idle": "2024-07-29T06:14:07.654972Z",
     "shell.execute_reply": "2024-07-29T06:14:07.654062Z",
     "shell.execute_reply.started": "2024-07-29T06:14:07.647738Z"
    },
    "trusted": true
   },
   "outputs": [],
   "source": [
    "def visualize_images(data_loader):\n",
    "    \n",
    "    images,labels = next(iter(data_loader))\n",
    "    \n",
    "    fig, axes = plt.subplots(1, 10, figsize=(16, 2))\n",
    "    axes = axes.flatten()\n",
    "\n",
    "    for img,lbl, ax in zip(images[:10],labels[:10], axes):\n",
    "        img = img.permute(1,2,0)\n",
    "        ax.imshow(img.squeeze(), cmap='gray')\n",
    "        ax.set_title(lbl.item())\n",
    "        ax.axis('tight')\n",
    "        ax.axis('off')\n",
    "\n",
    "\n",
    "    plt.tight_layout()\n",
    "    plt.subplots_adjust(hspace=0.2, wspace=0.2)\n",
    "    plt.show()\n",
    "    "
   ]
  },
  {
   "cell_type": "code",
   "execution_count": 63,
   "metadata": {
    "execution": {
     "iopub.execute_input": "2024-07-29T06:14:07.656612Z",
     "iopub.status.busy": "2024-07-29T06:14:07.656278Z",
     "iopub.status.idle": "2024-07-29T06:14:11.631047Z",
     "shell.execute_reply": "2024-07-29T06:14:11.629947Z",
     "shell.execute_reply.started": "2024-07-29T06:14:07.656588Z"
    },
    "trusted": true
   },
   "outputs": [
    {
     "data": {
      "image/png": "[encoded data removed]",
      "text/plain": [
       "<Figure size 1600x200 with 10 Axes>"
      ]
     },
     "metadata": {},
     "output_type": "display_data"
    }
   ],
   "source": [
    "visualize_images(train_loader)"
   ]
  },
  {
   "cell_type": "code",
   "execution_count": 64,
   "metadata": {
    "execution": {
     "iopub.execute_input": "2024-07-29T06:14:11.634765Z",
     "iopub.status.busy": "2024-07-29T06:14:11.634350Z",
     "iopub.status.idle": "2024-07-29T06:14:11.646181Z",
     "shell.execute_reply": "2024-07-29T06:14:11.645127Z",
     "shell.execute_reply.started": "2024-07-29T06:14:11.634734Z"
    },
    "trusted": true
   },
   "outputs": [],
   "source": [
    "class CustomModel(nn.Module):\n",
    "    def __init__(self,input_channels=1):\n",
    "        super(CustomModel, self).__init__()\n",
    "\n",
    "        \n",
    "        self.conv = nn.Sequential(\n",
    "            nn.Conv2d(input_channels, 64, kernel_size=3, padding=1,bias=False),\n",
    "            nn.BatchNorm2d(64),\n",
    "            nn.ReLU(),\n",
    "#             nn.Conv2d(64, 64, kernel_size=3, padding=1,bias=False),\n",
    "#             nn.BatchNorm2d(64),\n",
    "#             nn.ReLU(),\n",
    "            nn.MaxPool2d(2, 2),\n",
    "            \n",
    "            nn.Conv2d(64, 128, kernel_size=3, padding=1,bias=False),\n",
    "            nn.BatchNorm2d(128),\n",
    "            nn.ReLU(),\n",
    "#             nn.Conv2d(128, 128, kernel_size=3, padding=1,bias=False),\n",
    "#             nn.BatchNorm2d(128),\n",
    "#             nn.ReLU(),\n",
    "            nn.MaxPool2d(2, 2),\n",
    "            \n",
    "            nn.Conv2d(128, 256, kernel_size=3, padding=1,bias=False),\n",
    "            nn.BatchNorm2d(256),\n",
    "            nn.ReLU(),\n",
    "#             nn.Conv2d(256, 256, kernel_size=3, padding=1,bias=False),\n",
    "#             nn.BatchNorm2d(256),\n",
    "#             nn.ReLU(),\n",
    "            nn.MaxPool2d(2, 2),\n",
    "            \n",
    "            nn.Conv2d(256, 512, kernel_size=3, padding=1,bias=False),\n",
    "            nn.BatchNorm2d(512),\n",
    "            nn.ReLU(),\n",
    "#             nn.Conv2d(512, 512, kernel_size=3, padding=1,bias=False),\n",
    "#             nn.BatchNorm2d(512),\n",
    "#             nn.ReLU(),\n",
    "        )\n",
    "                \n",
    "        self.fc = nn.Sequential(\n",
    "            nn.Linear(4*5*512,256),\n",
    "            nn.Dropout(0.5),\n",
    "            nn.ReLU(),\n",
    "            nn.Linear(256,128),\n",
    "            nn.Dropout(0.5),\n",
    "            nn.ReLU(),\n",
    "            nn.Linear(128,10),\n",
    "        )\n",
    "        \n",
    "        \n",
    "    def forward(self, x):\n",
    "        conv = self.conv(x)\n",
    "   \n",
    "        conv = conv.view(conv.size(0),-1)\n",
    "        return self.fc(conv)"
   ]
  },
  {
   "cell_type": "code",
   "execution_count": 65,
   "metadata": {
    "execution": {
     "iopub.execute_input": "2024-07-29T06:14:11.647684Z",
     "iopub.status.busy": "2024-07-29T06:14:11.647383Z",
     "iopub.status.idle": "2024-07-29T06:14:11.662862Z",
     "shell.execute_reply": "2024-07-29T06:14:11.662055Z",
     "shell.execute_reply.started": "2024-07-29T06:14:11.647659Z"
    },
    "trusted": true
   },
   "outputs": [],
   "source": [
    "import gc\n",
    "def clean_up():\n",
    "    gc.collect()\n",
    "    torch.cuda.empty_cache()"
   ]
  },
  {
   "cell_type": "code",
   "execution_count": 66,
   "metadata": {
    "execution": {
     "iopub.execute_input": "2024-07-29T06:14:11.664315Z",
     "iopub.status.busy": "2024-07-29T06:14:11.664031Z",
     "iopub.status.idle": "2024-07-29T06:14:11.912770Z",
     "shell.execute_reply": "2024-07-29T06:14:11.911673Z",
     "shell.execute_reply.started": "2024-07-29T06:14:11.664291Z"
    },
    "trusted": true
   },
   "outputs": [],
   "source": [
    "clean_up()"
   ]
  },
  {
   "cell_type": "code",
   "execution_count": 67,
   "metadata": {
    "execution": {
     "iopub.execute_input": "2024-07-29T06:14:11.914586Z",
     "iopub.status.busy": "2024-07-29T06:14:11.914270Z",
     "iopub.status.idle": "2024-07-29T06:14:11.925930Z",
     "shell.execute_reply": "2024-07-29T06:14:11.925053Z",
     "shell.execute_reply.started": "2024-07-29T06:14:11.914560Z"
    },
    "trusted": true
   },
   "outputs": [],
   "source": [
    "torch.autograd.set_detect_anomaly(mode=False)\n",
    "torch.autograd.profiler.emit_nvtx(enabled=False)\n",
    "\n",
    "torch.backends.cudnn.benchmark = True\n",
    "torch.jit.enable_onednn_fusion(True)"
   ]
  },
  {
   "cell_type": "code",
   "execution_count": 68,
   "metadata": {
    "execution": {
     "iopub.execute_input": "2024-07-29T06:14:11.927482Z",
     "iopub.status.busy": "2024-07-29T06:14:11.927192Z",
     "iopub.status.idle": "2024-07-29T06:14:11.937321Z",
     "shell.execute_reply": "2024-07-29T06:14:11.936403Z",
     "shell.execute_reply.started": "2024-07-29T06:14:11.927457Z"
    },
    "trusted": true
   },
   "outputs": [],
   "source": [
    "import time\n",
    "\n",
    "def train_single_batch(num_epochs):\n",
    "    model = CustomModel().to(device)\n",
    "    optimizer = optim.Adam(model.parameters(),lr=3e-4)\n",
    "    loss_fn = nn.CrossEntropyLoss()\n",
    "    \n",
    "    images,labels = next(iter(train_loader))\n",
    "    labels = labels.view(-1)\n",
    "\n",
    "    for epoch in range(num_epochs):\n",
    "        start = time.time()\n",
    "        \n",
    "        model.train()\n",
    "        \n",
    "        images, labels = images.to(device), labels.to(device)\n",
    "        optimizer.zero_grad(set_to_none=True)\n",
    "\n",
    "        outputs = model(images) # 64x10\n",
    "        \n",
    "        loss = loss_fn(outputs, labels)\n",
    "        \n",
    "            \n",
    "        loss.backward()\n",
    "        optimizer.step()\n",
    "    \n",
    "        \n",
    "        end_train = time.time()\n",
    "        print(f\"Epoch [{epoch+1}/{num_epochs}], Loss: {loss:.4f}, Train Time: {end_train-start:.4f}\")\n"
   ]
  },
  {
   "cell_type": "code",
   "execution_count": 69,
   "metadata": {
    "execution": {
     "iopub.execute_input": "2024-07-29T06:14:11.938746Z",
     "iopub.status.busy": "2024-07-29T06:14:11.938448Z",
     "iopub.status.idle": "2024-07-29T06:14:22.371476Z",
     "shell.execute_reply": "2024-07-29T06:14:22.370425Z",
     "shell.execute_reply.started": "2024-07-29T06:14:11.938722Z"
    },
    "trusted": true
   },
   "outputs": [
    {
     "name": "stdout",
     "output_type": "stream",
     "text": [
      "Epoch [1/60], Loss: 2.3159, Train Time: 2.3442\n",
      "Epoch [2/60], Loss: 2.2835, Train Time: 0.0182\n",
      "Epoch [3/60], Loss: 2.2609, Train Time: 0.0052\n",
      "Epoch [4/60], Loss: 2.2618, Train Time: 0.0056\n",
      "Epoch [5/60], Loss: 2.2567, Train Time: 0.0055\n",
      "Epoch [6/60], Loss: 2.2251, Train Time: 0.0051\n",
      "Epoch [7/60], Loss: 2.2296, Train Time: 0.0053\n",
      "Epoch [8/60], Loss: 2.2132, Train Time: 0.0054\n",
      "Epoch [9/60], Loss: 2.1866, Train Time: 0.0052\n",
      "Epoch [10/60], Loss: 2.1759, Train Time: 0.0053\n",
      "Epoch [11/60], Loss: 2.1787, Train Time: 0.0057\n",
      "Epoch [12/60], Loss: 2.1722, Train Time: 0.0055\n",
      "Epoch [13/60], Loss: 2.1453, Train Time: 0.0052\n",
      "Epoch [14/60], Loss: 2.1205, Train Time: 0.0057\n",
      "Epoch [15/60], Loss: 2.1164, Train Time: 0.0051\n",
      "Epoch [16/60], Loss: 2.0743, Train Time: 0.0051\n",
      "Epoch [17/60], Loss: 2.0614, Train Time: 0.0057\n",
      "Epoch [18/60], Loss: 2.0327, Train Time: 0.0051\n",
      "Epoch [19/60], Loss: 2.0069, Train Time: 0.0053\n",
      "Epoch [20/60], Loss: 1.9712, Train Time: 0.0068\n",
      "Epoch [21/60], Loss: 1.9524, Train Time: 0.0050\n",
      "Epoch [22/60], Loss: 1.8995, Train Time: 0.0051\n",
      "Epoch [23/60], Loss: 1.8850, Train Time: 0.0053\n",
      "Epoch [24/60], Loss: 1.8214, Train Time: 0.0052\n",
      "Epoch [25/60], Loss: 1.7918, Train Time: 0.0052\n",
      "Epoch [26/60], Loss: 1.7625, Train Time: 0.0053\n",
      "Epoch [27/60], Loss: 1.6868, Train Time: 0.0053\n",
      "Epoch [28/60], Loss: 1.6447, Train Time: 0.0052\n",
      "Epoch [29/60], Loss: 1.5839, Train Time: 0.0055\n",
      "Epoch [30/60], Loss: 1.5376, Train Time: 0.0052\n",
      "Epoch [31/60], Loss: 1.4775, Train Time: 0.0052\n",
      "Epoch [32/60], Loss: 1.4760, Train Time: 0.0053\n",
      "Epoch [33/60], Loss: 1.4063, Train Time: 0.0052\n",
      "Epoch [34/60], Loss: 1.3403, Train Time: 0.0052\n",
      "Epoch [35/60], Loss: 1.2782, Train Time: 0.0053\n",
      "Epoch [36/60], Loss: 1.2232, Train Time: 0.0052\n",
      "Epoch [37/60], Loss: 1.1972, Train Time: 0.0052\n",
      "Epoch [38/60], Loss: 1.0843, Train Time: 0.0056\n",
      "Epoch [39/60], Loss: 1.0355, Train Time: 0.0053\n",
      "Epoch [40/60], Loss: 0.9886, Train Time: 0.0051\n",
      "Epoch [41/60], Loss: 0.9204, Train Time: 0.0054\n",
      "Epoch [42/60], Loss: 0.8414, Train Time: 0.0055\n",
      "Epoch [43/60], Loss: 0.8316, Train Time: 0.0050\n",
      "Epoch [44/60], Loss: 0.7456, Train Time: 0.0054\n",
      "Epoch [45/60], Loss: 0.6817, Train Time: 0.0051\n",
      "Epoch [46/60], Loss: 0.6491, Train Time: 0.0053\n",
      "Epoch [47/60], Loss: 0.6144, Train Time: 0.0054\n",
      "Epoch [48/60], Loss: 0.5471, Train Time: 0.0051\n",
      "Epoch [49/60], Loss: 0.5103, Train Time: 0.0053\n",
      "Epoch [50/60], Loss: 0.4683, Train Time: 0.0054\n",
      "Epoch [51/60], Loss: 0.4451, Train Time: 0.0053\n",
      "Epoch [52/60], Loss: 0.4128, Train Time: 0.0052\n",
      "Epoch [53/60], Loss: 0.3883, Train Time: 0.0055\n",
      "Epoch [54/60], Loss: 0.3376, Train Time: 0.0052\n",
      "Epoch [55/60], Loss: 0.3327, Train Time: 0.0051\n",
      "Epoch [56/60], Loss: 0.2701, Train Time: 0.0055\n",
      "Epoch [57/60], Loss: 0.2734, Train Time: 0.0053\n",
      "Epoch [58/60], Loss: 0.2447, Train Time: 0.0053\n",
      "Epoch [59/60], Loss: 0.2298, Train Time: 0.0052\n",
      "Epoch [60/60], Loss: 0.2083, Train Time: 0.0051\n"
     ]
    }
   ],
   "source": [
    "train_single_batch(60)"
   ]
  },
  {
   "cell_type": "code",
   "execution_count": 70,
   "metadata": {
    "execution": {
     "iopub.execute_input": "2024-07-29T06:14:50.324597Z",
     "iopub.status.busy": "2024-07-29T06:14:50.324238Z",
     "iopub.status.idle": "2024-07-29T06:14:50.377658Z",
     "shell.execute_reply": "2024-07-29T06:14:50.376676Z",
     "shell.execute_reply.started": "2024-07-29T06:14:50.324567Z"
    },
    "trusted": true
   },
   "outputs": [],
   "source": [
    "model = CustomModel().to(device)\n",
    "loss_fn = nn.CrossEntropyLoss()"
   ]
  },
  {
   "cell_type": "code",
   "execution_count": 71,
   "metadata": {
    "execution": {
     "iopub.execute_input": "2024-07-29T06:14:51.546036Z",
     "iopub.status.busy": "2024-07-29T06:14:51.545638Z",
     "iopub.status.idle": "2024-07-29T06:14:51.551120Z",
     "shell.execute_reply": "2024-07-29T06:14:51.550117Z",
     "shell.execute_reply.started": "2024-07-29T06:14:51.545983Z"
    },
    "trusted": true
   },
   "outputs": [],
   "source": [
    "optimizer = optim.Adam(model.parameters(),lr=3e-4)"
   ]
  },
  {
   "cell_type": "code",
   "execution_count": 72,
   "metadata": {
    "execution": {
     "iopub.execute_input": "2024-07-29T06:14:51.864337Z",
     "iopub.status.busy": "2024-07-29T06:14:51.863512Z",
     "iopub.status.idle": "2024-07-29T06:14:51.878552Z",
     "shell.execute_reply": "2024-07-29T06:14:51.877483Z",
     "shell.execute_reply.started": "2024-07-29T06:14:51.864305Z"
    },
    "trusted": true
   },
   "outputs": [],
   "source": [
    "from torch.cuda.amp import autocast, GradScaler\n",
    "\n",
    "def train(model, num_epochs,optimizer,loss_fn,train_loader,test_loader):\n",
    "    scaler = GradScaler()\n",
    "    for epoch in range(num_epochs):\n",
    "        epoch_loss = 0.0\n",
    "        correct_train = 0.0\n",
    "        total_train=0.0\n",
    "        start = time.time()\n",
    "        for images,labels in train_loader:\n",
    "\n",
    "            model.train()\n",
    "\n",
    "            images, labels = images.to(device,non_blocking=True), labels.to(device,non_blocking=True)\n",
    "            labels = labels.view(-1)\n",
    "            \n",
    "            optimizer.zero_grad(set_to_none=True)\n",
    "            \n",
    "            with autocast(dtype=torch.float16):\n",
    "                outputs = model(images)\n",
    "                loss = loss_fn(outputs, labels)\n",
    "        \n",
    "            scaler.scale(loss).backward()\n",
    "            scaler.step(optimizer)\n",
    "            scaler.update()\n",
    "            \n",
    "            \n",
    "            epoch_loss+=loss.item()\n",
    "            _, predicted = torch.max(outputs.data, 1)\n",
    "            total_train+=labels.size(0)\n",
    "            correct_train += (predicted == labels).sum().item()\n",
    "            \n",
    "\n",
    "        end_train = time.time()\n",
    "            \n",
    "        model.eval()\n",
    "        val_loss = 0.0\n",
    "        correct_val = 0.0\n",
    "        total_val = 0.0\n",
    "        \n",
    "        \n",
    "        with torch.no_grad():\n",
    "            for images,labels in test_loader:\n",
    "                images, labels = images.to(device,non_blocking=True), labels.to(device,non_blocking=True)\n",
    "                \n",
    "                labels = labels.view(-1)\n",
    "                \n",
    "                with autocast(dtype=torch.float16):\n",
    "                    outputs = model(images)\n",
    "                    loss=loss_fn(outputs,labels)\n",
    "                \n",
    "                val_loss+=loss.item()\n",
    "                \n",
    "                predicted = torch.argmax(outputs.data, 1)\n",
    "                total_val+=labels.size(0)\n",
    "                correct_val += (predicted == labels).sum().item()\n",
    "        \n",
    "            \n",
    "        end_val = time.time()\n",
    "        \n",
    "        val_loss/=len(test_loader)\n",
    "        correct_val /= total_val\n",
    "        \n",
    "        correct_train /= total_train\n",
    "        epoch_loss/=len(train_loader)\n",
    "        \n",
    "        print(f\"Epoch [{epoch+1}/{num_epochs}], Loss: {loss:.4f}, Train Acc: {correct_train:.4f}, Train Time: {end_train-start:.4f}, Val Loss: {val_loss:.4f}, Val Acc: {correct_val:.4f}, Inference Time: {end_val-end_train:.4f}\")"
   ]
  },
  {
   "cell_type": "code",
   "execution_count": null,
   "metadata": {
    "execution": {
     "iopub.execute_input": "2024-07-29T06:14:52.826424Z",
     "iopub.status.busy": "2024-07-29T06:14:52.826061Z",
     "iopub.status.idle": "2024-07-29T06:31:58.202968Z",
     "shell.execute_reply": "2024-07-29T06:31:58.201495Z",
     "shell.execute_reply.started": "2024-07-29T06:14:52.826396Z"
    },
    "trusted": true
   },
   "outputs": [],
   "source": [
    "train(model,10,optimizer,loss_fn,train_loader,test_loader)"
   ]
  },
  {
   "cell_type": "code",
   "execution_count": null,
   "metadata": {
    "execution": {
     "iopub.status.busy": "2024-07-29T06:13:00.509878Z",
     "iopub.status.idle": "2024-07-29T06:13:00.510369Z",
     "shell.execute_reply": "2024-07-29T06:13:00.510150Z",
     "shell.execute_reply.started": "2024-07-29T06:13:00.510129Z"
    },
    "trusted": true
   },
   "outputs": [],
   "source": [
    "torch.save(model, \"hybrid_model.pt\")"
   ]
  },
  {
   "cell_type": "code",
   "execution_count": null,
   "metadata": {
    "execution": {
     "iopub.status.busy": "2024-07-28T16:17:35.801207Z",
     "iopub.status.idle": "2024-07-28T16:17:35.801639Z",
     "shell.execute_reply": "2024-07-28T16:17:35.801431Z",
     "shell.execute_reply.started": "2024-07-28T16:17:35.801412Z"
    },
    "trusted": true
   },
   "outputs": [],
   "source": [
    "optimizer = optim.Adam(model.parameters(),lr=1e-5)\n",
    "train(model, 5,optimizer,loss_fn,train_loader,test_loader)"
   ]
  },
  {
   "cell_type": "code",
   "execution_count": null,
   "metadata": {
    "execution": {
     "iopub.status.busy": "2024-07-28T16:17:35.803094Z",
     "iopub.status.idle": "2024-07-28T16:17:35.803516Z",
     "shell.execute_reply": "2024-07-28T16:17:35.803318Z",
     "shell.execute_reply.started": "2024-07-28T16:17:35.803300Z"
    },
    "trusted": true
   },
   "outputs": [],
   "source": [
    "torch.save(model, \"hybrid_model2.pt\")"
   ]
  },
  {
   "cell_type": "code",
   "execution_count": null,
   "metadata": {},
   "outputs": [],
   "source": []
  }
 ],
 "metadata": {
  "kaggle": {
   "accelerator": "none",
   "dataSources": [
    {
     "datasetId": 4789,
     "sourceId": 7442,
     "sourceType": "datasetVersion"
    }
   ],
   "dockerImageVersionId": 30747,
   "isGpuEnabled": false,
   "isInternetEnabled": true,
   "language": "python",
   "sourceType": "notebook"
  },
  "kernelspec": {
   "display_name": "Python 3",
   "language": "python",
   "name": "python3"
  },
  "language_info": {
   "codemirror_mode": {
    "name": "ipython",
    "version": 3
   },
   "file_extension": ".py",
   "mimetype": "text/x-python",
   "name": "python",
   "nbconvert_exporter": "python",
   "pygments_lexer": "ipython3",
   "version": "3.10.13"
  }
 },
 "nbformat": 4,
 "nbformat_minor": 4
}
